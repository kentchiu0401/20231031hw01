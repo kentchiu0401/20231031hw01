{
 "cells": [
  {
   "cell_type": "code",
   "execution_count": 9,
   "id": "e72c9d9a",
   "metadata": {},
   "outputs": [],
   "source": [
    "url='https://tw-nba.udn.com/nba/cate/6754/'"
   ]
  },
  {
   "cell_type": "code",
   "execution_count": 10,
   "id": "c6376e53",
   "metadata": {},
   "outputs": [],
   "source": [
    "# 運用之前寫的tools.py（或命名為tool.py；檔名要對應）\n",
    "\n",
    "from tools import get_soup"
   ]
  },
  {
   "cell_type": "code",
   "execution_count": 12,
   "id": "5559889e",
   "metadata": {
    "scrolled": false
   },
   "outputs": [],
   "source": [
    "soup=get_soup(url)"
   ]
  },
  {
   "cell_type": "code",
   "execution_count": 13,
   "id": "1c683c14",
   "metadata": {},
   "outputs": [
    {
     "data": {
      "text/plain": [
       "[<dt>\n",
       " <a data-content_level=\"開放閱讀\" data-slotname=\"新聞\" href=\"https://tw-nba.udn.com/nba/story/7002/7556472\" title=\"NBA／快艇將「露鳥」後衛合約轉正 球員名單達14人\">\n",
       " <span class=\"img-boxs\"><img class=\"lazyload\" data-sizes=\"auto\" data-src=\"https://pgw.udn.com.tw/gw/photo.php?u=https://uc.udn.com.tw/photo/2023/11/07/0/26938973.jpg&amp;s=Y&amp;x=0&amp;y=0&amp;sw=1277&amp;sh=852&amp;exp=3600&amp;w=220\"/></span>\n",
       " <h3>NBA／快艇將「露鳥」後衛合約轉正 球員名單達14人</h3>\n",
       " <b class=\"h24\">8分鐘 以前</b>\n",
       " <p>據《The Athletic》知名記者查拉尼亞（Shams Charania）消息，快艇隊將前馬刺...</p>\n",
       " </a>\n",
       " </dt>,\n",
       " <dt>\n",
       " <a data-content_level=\"開放閱讀\" data-slotname=\"新聞\" href=\"https://tw-nba.udn.com/nba/story/7002/7556364\" title=\"NBA／勇士第14人不是老將 3年約簽下巴西前鋒桑托斯\">\n",
       " <span class=\"img-boxs\"><img class=\"lazyload\" data-sizes=\"auto\" data-src=\"https://pgw.udn.com.tw/gw/photo.php?u=https://uc.udn.com.tw/photo/2023/11/07/0/26937474.jpg&amp;s=Y&amp;x=0&amp;y=0&amp;sw=1280&amp;sh=853&amp;exp=3600&amp;w=220\"/></span>\n",
       " <h3>NBA／勇士第14人不是老將 3年約簽下巴西前鋒桑托斯</h3>\n",
       " <b class=\"h24\">43分鐘 以前</b>\n",
       " <p>勇士隊今天宣布以3年合約簽下巴西籍前鋒桑托斯（Gui Santos），他將成為勇士正式球員名單第1...</p>\n",
       " </a>\n",
       " </dt>,\n",
       " <dt>\n",
       " <a data-content_level=\"開放閱讀\" data-slotname=\"新聞\" href=\"https://tw-nba.udn.com/nba/story/7002/7555527\" title=\"NBA／頂級天賦與職業精神完美融合 熱火主帥：詹姆斯是外星人\">\n",
       " <span class=\"img-boxs\"><img class=\"lazyload\" data-sizes=\"auto\" data-src=\"https://pgw.udn.com.tw/gw/photo.php?u=https://uc.udn.com.tw/photo/2023/11/06/0/26920067.jpg&amp;s=Y&amp;x=64&amp;y=4&amp;sw=997&amp;sh=665&amp;exp=3600&amp;w=220\"/></span>\n",
       " <h3>NBA／頂級天賦與職業精神完美融合 熱火主帥：詹姆斯是外星人</h3>\n",
       " <b class=\"h24\">14小時 以前</b>\n",
       " <p>詹姆斯（LeBron James）明天將帶對前往熟悉的邁阿密踢館，曾經與他攜手奪下兩座總冠軍的主帥...</p>\n",
       " </a>\n",
       " </dt>,\n",
       " <dt>\n",
       " <a data-content_level=\"開放閱讀\" data-slotname=\"新聞\" href=\"https://tw-nba.udn.com/nba/story/7002/7555502\" title=\"NBA／藍道開季投籃命中率慘不忍睹 尼克隊友相信會反彈\">\n",
       " <span class=\"img-boxs\"><img class=\"lazyload\" data-sizes=\"auto\" data-src=\"https://pgw.udn.com.tw/gw/photo.php?u=https://uc.udn.com.tw/photo/2023/11/06/0/26919530.jpg&amp;s=Y&amp;x=88&amp;y=24&amp;sw=1104&amp;sh=736&amp;exp=3600&amp;w=220\"/></span>\n",
       " <h3>NBA／藍道開季投籃命中率慘不忍睹 尼克隊友相信會反彈</h3>\n",
       " <b class=\"h24\">15小時 以前</b>\n",
       " <p>上季以東區第5闖進季後賽的紐約尼克，今年開季之後狀態顯得不理想，6戰吞下4敗，其一大原因就跟主力戰...</p>\n",
       " </a>\n",
       " </dt>,\n",
       " <dt>\n",
       " <a data-content_level=\"開放閱讀\" data-slotname=\"新聞\" href=\"https://tw-nba.udn.com/nba/story/7002/7554300\" title=\"NBA／騎士終結對勇士16連敗 米契爾：我們團結一致\">\n",
       " <span class=\"img-boxs\"><img class=\"lazyload\" data-sizes=\"auto\" data-src=\"https://pgw.udn.com.tw/gw/photo.php?u=https://uc.udn.com.tw/photo/2023/11/06/98/26917968.jpg&amp;s=Y&amp;x=80&amp;y=16&amp;sw=1201&amp;sh=801&amp;exp=3600&amp;w=220\"/></span>\n",
       " <h3>NBA／騎士終結對勇士16連敗 米契爾：我們團結一致</h3>\n",
       " <b class=\"h24\">16小時 以前</b>\n",
       " <p>克里夫蘭騎士隊球員米契爾（Donovan Mitchell）今天攻下全場最高31分，率球隊以115...</p>\n",
       " </a>\n",
       " </dt>,\n",
       " <dt>\n",
       " <a data-content_level=\"開放閱讀\" data-slotname=\"新聞\" href=\"https://tw-nba.udn.com/nba/story/7002/7555234\" title=\"NBA／快艇四巨頭球權如何分配？哈登：早已習慣打無球\">\n",
       " <span class=\"img-boxs\"><img class=\"lazyload\" data-sizes=\"auto\" data-src=\"https://pgw.udn.com.tw/gw/photo.php?u=https://uc.udn.com.tw/photo/2023/11/06/0/26916169.jpg&amp;s=Y&amp;x=4&amp;y=60&amp;sw=1185&amp;sh=790&amp;exp=3600&amp;w=220\"/></span>\n",
       " <h3>NBA／快艇四巨頭球權如何分配？哈登：早已習慣打無球</h3>\n",
       " <b class=\"h24\">16小時 以前</b>\n",
       " <p>哈登（James Harden）前一次出賽已是今年5月14日代表76人在季後賽登場，對於明天將展開...</p>\n",
       " </a>\n",
       " </dt>,\n",
       " <dt>\n",
       " <a data-content_level=\"開放閱讀\" data-slotname=\"新聞\" href=\"https://tw-nba.udn.com/nba/story/7002/7555005\" title=\"NBA／維金斯打出勇士生涯最差表現？柯爾：只是起步有點晚\">\n",
       " <span class=\"img-boxs\"><img class=\"lazyload\" data-sizes=\"auto\" data-src=\"https://pgw.udn.com.tw/gw/photo.php?u=https://uc.udn.com.tw/photo/2023/11/06/0/26916099.jpg&amp;s=Y&amp;x=56&amp;y=44&amp;sw=1100&amp;sh=733&amp;exp=3600&amp;w=220\"/></span>\n",
       " <h3>NBA／維金斯打出勇士生涯最差表現？柯爾：只是起步有點晚</h3>\n",
       " <b class=\"h24\">17小時 以前</b>\n",
       " <p>勇士今天以104：115不敵騎士隊，維金斯（Andrew Wiggins）全場9投3中，只拿到8分...</p>\n",
       " </a>\n",
       " </dt>,\n",
       " <dt>\n",
       " <a data-content_level=\"開放閱讀\" data-slotname=\"新聞\" href=\"https://tw-nba.udn.com/nba/story/7002/7553581\" title=\"NBA／綠衫軍最年輕破萬分 泰托姆：很幸運加入優秀團隊\">\n",
       " <span class=\"img-boxs\"><img class=\"lazyload\" data-sizes=\"auto\" data-src=\"https://pgw.udn.com.tw/gw/photo.php?u=https://uc.udn.com.tw/photo/2023/11/06/1/26918329.jpg&amp;s=Y&amp;x=24&amp;y=12&amp;sw=1213&amp;sh=809&amp;exp=3600&amp;w=220\"/></span>\n",
       " <h3>NBA／綠衫軍最年輕破萬分 泰托姆：很幸運加入優秀團隊</h3>\n",
       " <b class=\"h24\">17小時 以前</b>\n",
       " <p>開季維持不敗金身的塞爾蒂克，當家球星泰托姆（Jayson Tatum）昨迎接里程碑，面對籃網隊攻下...</p>\n",
       " </a>\n",
       " </dt>,\n",
       " <dt>\n",
       " <a data-content_level=\"開放閱讀\" data-slotname=\"新聞\" href=\"https://tw-nba.udn.com/nba/story/7002/7555086\" title=\"NBA／不滿聯盟對「踢蛋」判罰雙標 格林：規則只適用我身上\">\n",
       " <span class=\"img-boxs\"><img class=\"lazyload\" data-sizes=\"auto\" data-src=\"https://pgw.udn.com.tw/gw/photo.php?u=https://uc.udn.com.tw/photo/2023/11/06/0/26914559.jpg&amp;s=Y&amp;x=100&amp;y=28&amp;sw=1179&amp;sh=786&amp;exp=3600&amp;w=220\"/></span>\n",
       " <h3>NBA／不滿聯盟對「踢蛋」判罰雙標 格林：規則只適用我身上</h3>\n",
       " <b class=\"h24\">17小時 以前</b>\n",
       " <p>今天勇士以104：115不敵騎士隊，防守悍將格林（Draymond Green）首節因爭搶籃板被騎...</p>\n",
       " </a>\n",
       " </dt>,\n",
       " <dt>\n",
       " <a data-content_level=\"開放閱讀\" data-slotname=\"新聞\" href=\"https://tw-nba.udn.com/nba/story/7002/7554398\" title=\"NBA／哈登生涯指定轉隊下家必如願 美媒戲稱可開公司教導球員\">\n",
       " <span class=\"img-boxs\"><img class=\"lazyload\" data-sizes=\"auto\" data-src=\"https://pgw.udn.com.tw/gw/photo.php?u=https://uc.udn.com.tw/photo/2023/11/06/98/26915799.jpg&amp;s=Y&amp;x=8&amp;y=8&amp;sw=1252&amp;sh=704&amp;exp=3600&amp;w=220\"/></span>\n",
       " <h3>NBA／哈登生涯指定轉隊下家必如願 美媒戲稱可開公司教導球員</h3>\n",
       " <b class=\"h24\">17小時 以前</b>\n",
       " <p>今年NBA暑假最難看的「交易肥皂劇」主角哈登（James Harden），已經確定明天將首披快艇戰...</p>\n",
       " </a>\n",
       " </dt>]"
      ]
     },
     "execution_count": 13,
     "metadata": {},
     "output_type": "execute_result"
    }
   ],
   "source": [
    "dts=soup.find(id=\"news_list_body\").find_all('dt')\n",
    "dts"
   ]
  },
  {
   "cell_type": "code",
   "execution_count": 14,
   "id": "db5fd739",
   "metadata": {},
   "outputs": [
    {
     "name": "stdout",
     "output_type": "stream",
     "text": [
      "['NBA／快艇將「露鳥」後衛合約轉正 球員名單達14人', 'NBA／勇士第14人不是老將 3年約簽下巴西前鋒桑托斯', 'NBA／頂級天賦與職業精神完美融合 熱火主帥：詹姆斯是外星人', 'NBA／藍道開季投籃命中率慘不忍睹 尼克隊友相信會反彈', 'NBA／騎士終結對勇士16連敗 米契爾：我們團結一致', 'NBA／快艇四巨頭球權如何分配？哈登：早已習慣打無球', 'NBA／維金斯打出勇士生涯最差表現？柯爾：只是起步有點晚', 'NBA／綠衫軍最年輕破萬分 泰托姆：很幸運加入優秀團隊', 'NBA／不滿聯盟對「踢蛋」判罰雙標 格林：規則只適用我身上', 'NBA／哈登生涯指定轉隊下家必如願 美媒戲稱可開公司教導球員'] 10\n"
     ]
    }
   ],
   "source": [
    "#找標題\n",
    "titles = []\n",
    "for dt in dts:\n",
    "    tl = dt.find_all('h3')\n",
    "    for t in tl:\n",
    "        titles.append(t.text.strip())\n",
    "print(titles, len(titles))"
   ]
  },
  {
   "cell_type": "code",
   "execution_count": 15,
   "id": "77b136a8",
   "metadata": {},
   "outputs": [
    {
     "name": "stdout",
     "output_type": "stream",
     "text": [
      "['https://tw-nba.udn.com/nba/story/7002/7556472', 'https://tw-nba.udn.com/nba/story/7002/7556364', 'https://tw-nba.udn.com/nba/story/7002/7555527', 'https://tw-nba.udn.com/nba/story/7002/7555502', 'https://tw-nba.udn.com/nba/story/7002/7554300', 'https://tw-nba.udn.com/nba/story/7002/7555234', 'https://tw-nba.udn.com/nba/story/7002/7555005', 'https://tw-nba.udn.com/nba/story/7002/7553581', 'https://tw-nba.udn.com/nba/story/7002/7555086', 'https://tw-nba.udn.com/nba/story/7002/7554398'] 10\n"
     ]
    }
   ],
   "source": [
    "# 找連結\n",
    "links = []\n",
    "for dt in dts:\n",
    "    lks = dt.find_all('a')\n",
    "    for lk in lks:\n",
    "            links.append(lk.get('href'))\n",
    "print(links, len(links))"
   ]
  },
  {
   "cell_type": "code",
   "execution_count": 16,
   "id": "73449dcf",
   "metadata": {},
   "outputs": [
    {
     "name": "stdout",
     "output_type": "stream",
     "text": [
      "['據《The Athletic》知名記者查拉尼亞（Shams Charania）消息，快艇隊將前馬刺...', '勇士隊今天宣布以3年合約簽下巴西籍前鋒桑托斯（Gui Santos），他將成為勇士正式球員名單第1...', '詹姆斯（LeBron James）明天將帶對前往熟悉的邁阿密踢館，曾經與他攜手奪下兩座總冠軍的主帥...', '上季以東區第5闖進季後賽的紐約尼克，今年開季之後狀態顯得不理想，6戰吞下4敗，其一大原因就跟主力戰...', '克里夫蘭騎士隊球員米契爾（Donovan Mitchell）今天攻下全場最高31分，率球隊以115...', '哈登（James Harden）前一次出賽已是今年5月14日代表76人在季後賽登場，對於明天將展開...', '勇士今天以104：115不敵騎士隊，維金斯（Andrew Wiggins）全場9投3中，只拿到8分...', '開季維持不敗金身的塞爾蒂克，當家球星泰托姆（Jayson Tatum）昨迎接里程碑，面對籃網隊攻下...', '今天勇士以104：115不敵騎士隊，防守悍將格林（Draymond Green）首節因爭搶籃板被騎...', '今年NBA暑假最難看的「交易肥皂劇」主角哈登（James Harden），已經確定明天將首披快艇戰...'] 10\n"
     ]
    }
   ],
   "source": [
    "# 找內文\n",
    "contents = []\n",
    "for dt in dts:\n",
    "    cts = dt.find_all('p')\n",
    "    for ct in cts:\n",
    "        contents.append(ct.text.strip())\n",
    "print(contents, len(contents))"
   ]
  },
  {
   "cell_type": "code",
   "execution_count": 17,
   "id": "1fb3c026",
   "metadata": {},
   "outputs": [
    {
     "name": "stdout",
     "output_type": "stream",
     "text": [
      "['https://pgw.udn.com.tw/gw/photo.php?u=https://uc.udn.com.tw/photo/2023/11/07/0/26938973.jpg&s=Y&x=0&y=0&sw=1277&sh=852&exp=3600&w=220', 'https://pgw.udn.com.tw/gw/photo.php?u=https://uc.udn.com.tw/photo/2023/11/07/0/26937474.jpg&s=Y&x=0&y=0&sw=1280&sh=853&exp=3600&w=220', 'https://pgw.udn.com.tw/gw/photo.php?u=https://uc.udn.com.tw/photo/2023/11/06/0/26920067.jpg&s=Y&x=64&y=4&sw=997&sh=665&exp=3600&w=220', 'https://pgw.udn.com.tw/gw/photo.php?u=https://uc.udn.com.tw/photo/2023/11/06/0/26919530.jpg&s=Y&x=88&y=24&sw=1104&sh=736&exp=3600&w=220', 'https://pgw.udn.com.tw/gw/photo.php?u=https://uc.udn.com.tw/photo/2023/11/06/98/26917968.jpg&s=Y&x=80&y=16&sw=1201&sh=801&exp=3600&w=220', 'https://pgw.udn.com.tw/gw/photo.php?u=https://uc.udn.com.tw/photo/2023/11/06/0/26916169.jpg&s=Y&x=4&y=60&sw=1185&sh=790&exp=3600&w=220', 'https://pgw.udn.com.tw/gw/photo.php?u=https://uc.udn.com.tw/photo/2023/11/06/0/26916099.jpg&s=Y&x=56&y=44&sw=1100&sh=733&exp=3600&w=220', 'https://pgw.udn.com.tw/gw/photo.php?u=https://uc.udn.com.tw/photo/2023/11/06/1/26918329.jpg&s=Y&x=24&y=12&sw=1213&sh=809&exp=3600&w=220', 'https://pgw.udn.com.tw/gw/photo.php?u=https://uc.udn.com.tw/photo/2023/11/06/0/26914559.jpg&s=Y&x=100&y=28&sw=1179&sh=786&exp=3600&w=220', 'https://pgw.udn.com.tw/gw/photo.php?u=https://uc.udn.com.tw/photo/2023/11/06/98/26915799.jpg&s=Y&x=8&y=8&sw=1252&sh=704&exp=3600&w=220'] 10\n"
     ]
    }
   ],
   "source": [
    "# 圖片連結\n",
    "images = []\n",
    "for dt in dts:\n",
    "    imgs = dt.find_all('img')\n",
    "    for img in imgs:\n",
    "        images.append(img.get('data-src'))\n",
    "print(images, len(images))"
   ]
  },
  {
   "cell_type": "code",
   "execution_count": 19,
   "id": "013e7af8",
   "metadata": {},
   "outputs": [],
   "source": [
    "import time\n",
    "from tools import get_soup\n",
    "from datetime import datetime\n",
    "import pandas as pd\n",
    "\n",
    "titles = []\n",
    "links = []\n",
    "contents = []\n",
    "images = []\n",
    "\n",
    "\n",
    "url='https://tw-nba.udn.com/nba/cate/6754/0/newest/404'    \n",
    "\n",
    "\n",
    "try:\n",
    "    soup = get_soup(url)  #get html of the page.\n",
    "    dts=soup.find(id=\"news_list_body\").find_all('dt')  #get html of each news section.\n",
    "    for dt in dts:\n",
    "            \n",
    "        tl = dt.find_all('h3')\n",
    "        for t in tl:\n",
    "            title=t.text.strip()   # Get title\n",
    "            titles.append(title)\n",
    "\n",
    "        lks = dt.find_all('a')\n",
    "        for lk in lks:\n",
    "            link=lk.get('href') # Get hyperlink\n",
    "            links.append(link)\n",
    "            \n",
    "        cts = dt.find_all('p')\n",
    "        for ct in cts:\n",
    "            content=ct.text.strip()  #Get content\n",
    "            contents.append(content)\n",
    "           \n",
    "        imgs = dt.find_all('img')\n",
    "        for img in imgs:\n",
    "            image=img.get('data-src') #Get pic link\n",
    "            images.append(image)\n",
    "\n",
    "except Excpetion as e:\n",
    "    print(title, e)\n",
    "\n",
    "datas = []\n",
    "\n",
    "for x in zip(titles, links, contents, images):\n",
    "    datas.append(x)\n",
    "    \n",
    "df=pd.DataFrame(datas, columns = ['title', 'source', 'content', 'image'])\n",
    "\n",
    "date=datetime.now().strftime('%Y-%m-%d')\n",
    "\n",
    "df.to_csv(f'NBA_news_{date}.csv', encoding='utf-8-sig')"
   ]
  },
  {
   "cell_type": "code",
   "execution_count": null,
   "id": "0815f6ab",
   "metadata": {},
   "outputs": [],
   "source": []
  }
 ],
 "metadata": {
  "kernelspec": {
   "display_name": "Python 3 (ipykernel)",
   "language": "python",
   "name": "python3"
  },
  "language_info": {
   "codemirror_mode": {
    "name": "ipython",
    "version": 3
   },
   "file_extension": ".py",
   "mimetype": "text/x-python",
   "name": "python",
   "nbconvert_exporter": "python",
   "pygments_lexer": "ipython3",
   "version": "3.11.4"
  }
 },
 "nbformat": 4,
 "nbformat_minor": 5
}
